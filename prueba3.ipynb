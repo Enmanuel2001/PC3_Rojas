{
 "cells": [
  {
   "cell_type": "code",
   "execution_count": 1,
   "id": "23c6ecef",
   "metadata": {},
   "outputs": [],
   "source": [
    "def facto(numero):\n",
    "    if numero <= 1:\n",
    "        return 1\n",
    "    return numero * facto(numero-1)\n"
   ]
  },
  {
   "cell_type": "code",
   "execution_count": 2,
   "id": "18febe03",
   "metadata": {},
   "outputs": [
    {
     "data": {
      "text/plain": [
       "120"
      ]
     },
     "execution_count": 2,
     "metadata": {},
     "output_type": "execute_result"
    }
   ],
   "source": [
    "facto(5)"
   ]
  },
  {
   "cell_type": "code",
   "execution_count": 5,
   "id": "8a2cbb2e",
   "metadata": {},
   "outputs": [],
   "source": [
    "def factorial(n):\n",
    "    resultado = 1\n",
    "    i=1\n",
    "    while i<=n:\n",
    "        resultado = resultado * i\n",
    "        i=i+1\n",
    "    return resultado\n"
   ]
  },
  {
   "cell_type": "code",
   "execution_count": 6,
   "id": "472ba6cf",
   "metadata": {},
   "outputs": [
    {
     "data": {
      "text/plain": [
       "120"
      ]
     },
     "execution_count": 6,
     "metadata": {},
     "output_type": "execute_result"
    }
   ],
   "source": [
    "factorial(5)"
   ]
  }
 ],
 "metadata": {
  "kernelspec": {
   "display_name": "Python 3 (ipykernel)",
   "language": "python",
   "name": "python3"
  },
  "language_info": {
   "codemirror_mode": {
    "name": "ipython",
    "version": 3
   },
   "file_extension": ".py",
   "mimetype": "text/x-python",
   "name": "python",
   "nbconvert_exporter": "python",
   "pygments_lexer": "ipython3",
   "version": "3.9.12"
  }
 },
 "nbformat": 4,
 "nbformat_minor": 5
}
